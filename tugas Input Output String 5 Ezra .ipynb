{
 "cells": [
  {
   "cell_type": "code",
   "execution_count": 2,
   "id": "bc9cbf57-8a3d-46ce-b8d8-8a98f45b2fa3",
   "metadata": {},
   "outputs": [
    {
     "name": "stdin",
     "output_type": "stream",
     "text": [
      "masukan nama : ezra\n",
      "tanggal lahir:  03024\n",
      "jenis kelamin:  laki laki\n",
      "alamat:  cisereh\n",
      "Email ezrahaikal@gmail.com\n"
     ]
    },
    {
     "name": "stdout",
     "output_type": "stream",
     "text": [
      "Nama: ezra  Tanggal_Lahir: 03024  Jenis_Kelamin:laki laki  Alamat:cisereh Email: ezrahaikal@gmail.com\n"
     ]
    }
   ],
   "source": [
    "Nama = input(\"masukan nama :\")\n",
    "Tanggal_Lahir = input(\"tanggal lahir: \")\n",
    "Jenis_Kelamin = input(\"jenis kelamin: \")\n",
    "Alamat = input(\"alamat: \")\n",
    "Email = input (\"Email\")\n",
    "#output\n",
    "biodata = \"Nama: {}  Tanggal_Lahir: {}  Jenis_Kelamin:{}  Alamat:{} Email: {}\" .format(Nama,Tanggal_Lahir,Jenis_Kelamin,Alamat,Email)\n",
    "print(biodata)"
   ]
  },
  {
   "cell_type": "code",
   "execution_count": 3,
   "id": "ed93a069-4cc1-4368-9a75-da993ec73f0d",
   "metadata": {},
   "outputs": [
    {
     "name": "stdout",
     "output_type": "stream",
     "text": [
      "putra nusa \n",
      "NIVERSITAS NSA PTRA SKABUMI\n",
      "SUKABUMI PUTRA NUSA UNIVERSITAS \n",
      "UNPS\n",
      "TAS SAPU BUMI\n"
     ]
    }
   ],
   "source": [
    "univ =\"UNIVERSITAS NUSA PUTRA SUKABUMI\" \n",
    "kalimat1 =univ.lower ()\n",
    "print (kalimat1[17:22],kalimat1[12:17])\n",
    "kalimat2 = univ.upper ()\n",
    "print (kalimat2[1:11],kalimat2[12]+kalimat2[14:16],kalimat2[17]+kalimat2[19:22],kalimat2[23]+kalimat2[25:31])\n",
    "kalimat3 = univ.upper ()\n",
    "print(kalimat3[23:31],kalimat3[17:22],kalimat3[12:16],univ [0:12])\n",
    "kalimat4 = univ.upper ()\n",
    "print (kalimat3[0]+kalimat3[12]+kalimat3[17]+kalimat3[23])\n",
    "kalimat4 = univ.upper ()\n",
    "print (kalimat4[8:11],kalimat4[14:16]+kalimat4[17:19],kalimat4[27:])"
   ]
  },
  {
   "cell_type": "code",
   "execution_count": null,
   "id": "0fa92408-c130-4bcb-8592-b61f662cff8f",
   "metadata": {},
   "outputs": [],
   "source": []
  }
 ],
 "metadata": {
  "kernelspec": {
   "display_name": "Python 3 (ipykernel)",
   "language": "python",
   "name": "python3"
  },
  "language_info": {
   "codemirror_mode": {
    "name": "ipython",
    "version": 3
   },
   "file_extension": ".py",
   "mimetype": "text/x-python",
   "name": "python",
   "nbconvert_exporter": "python",
   "pygments_lexer": "ipython3",
   "version": "3.11.7"
  }
 },
 "nbformat": 4,
 "nbformat_minor": 5
}
